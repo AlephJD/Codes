{
 "cells": [
  {
   "cell_type": "markdown",
   "metadata": {},
   "source": [
    "# UNIX Commands for Data Scientists"
   ]
  },
  {
   "cell_type": "markdown",
   "metadata": {},
   "source": [
    "<p style = \"font-family: Arial; font-size:1.25em; color: green; font-style: bold\"> <br><br> Usage of UNIX commands for edition and data inquiries, and Matplotlib library <br><br> from GitBash terminal <br><br> Worksheet by: Aleph Jimenez <br><br> Date: 2021.08.19 <br><br>"
   ]
  },
  {
   "cell_type": "markdown",
   "metadata": {},
   "source": [
    "## Declare Filename"
   ]
  },
  {
   "cell_type": "code",
   "execution_count": 6,
   "metadata": {},
   "outputs": [
    {
     "name": "stderr",
     "output_type": "stream",
     "text": [
      "'ls' is not recognized as an internal or external command,\n",
      "operable program or batch file.\n"
     ]
    }
   ],
   "source": [
    "!ls ./unix"
   ]
  },
  {
   "cell_type": "code",
   "execution_count": 8,
   "metadata": {},
   "outputs": [
    {
     "name": "stderr",
     "output_type": "stream",
     "text": [
      "'ls' is not recognized as an internal or external command,\n",
      "operable program or batch file.\n"
     ]
    }
   ],
   "source": [
    "!ls"
   ]
  },
  {
   "cell_type": "code",
   "execution_count": 9,
   "metadata": {},
   "outputs": [
    {
     "name": "stdout",
     "output_type": "stream",
     "text": [
      " Volume in drive C has no label.\n",
      " Volume Serial Number is DA36-FFA4\n",
      "\n",
      " Directory of C:\\Users\\Aleph Jimenez\\OneDrive\\Desktop\\Aleph2\\Cursos\\CursoDataScience\\UCSD\\Python4DS\n",
      "\n",
      "08/19/2021  05:03 PM    <DIR>          .\n",
      "08/19/2021  05:03 PM    <DIR>          ..\n",
      "08/19/2021  04:59 PM    <DIR>          .ipynb_checkpoints\n",
      "08/19/2021  04:55 PM            21,509 Intro Notebook Week 3.ipynb\n",
      "08/19/2021  04:51 PM        10,615,133 Phyton for Data Science.docx\n",
      "08/19/2021  05:03 PM             1,438 Using UNIX Commands in Jupyter.ipynb\n",
      "05/21/2021  12:02 AM    <DIR>          Week 1\n",
      "05/21/2021  12:02 AM    <DIR>          Week 3\n",
      "05/21/2021  12:02 AM    <DIR>          Week 4\n",
      "05/21/2021  12:02 AM    <DIR>          Week 5\n",
      "05/21/2021  12:02 AM    <DIR>          Week 7\n",
      "05/21/2021  12:02 AM    <DIR>          Week 8\n",
      "07/28/2021  08:09 PM    <DIR>          Week2\n",
      "               3 File(s)     10,638,080 bytes\n",
      "              10 Dir(s)  163,482,927,104 bytes free\n"
     ]
    }
   ],
   "source": [
    "%ls"
   ]
  },
  {
   "cell_type": "markdown",
   "metadata": {},
   "source": [
    "## A partir de esta entrada se uso el shell de Git Bash para correr Jupyter Notebook."
   ]
  },
  {
   "cell_type": "code",
   "execution_count": 1,
   "metadata": {},
   "outputs": [
    {
     "name": "stdout",
     "output_type": "stream",
     "text": [
      "Intro Notebook Week 3.ipynb\n",
      "Phyton for Data Science.docx\n",
      "Using UNIX Commands in Jupyter.ipynb\n",
      "Week 1\n",
      "Week 3\n",
      "Week 4\n",
      "Week 5\n",
      "Week 7\n",
      "Week 8\n",
      "Week2\n"
     ]
    }
   ],
   "source": [
    "!ls"
   ]
  },
  {
   "cell_type": "code",
   "execution_count": 4,
   "metadata": {},
   "outputs": [
    {
     "name": "stdout",
     "output_type": "stream",
     "text": [
      "Shakespeare.txt\n",
      "all-fruits.txt\n",
      "count_vs_words\n",
      "fruits-sorted.txt\n",
      "fruits-unique.txt\n",
      "fruits.txt\n"
     ]
    }
   ],
   "source": [
    "!ls ./Week2/UNIXDataFiles/My1stDir"
   ]
  },
  {
   "cell_type": "code",
   "execution_count": 2,
   "metadata": {},
   "outputs": [
    {
     "name": "stdout",
     "output_type": "stream",
     "text": [
      "./Week2/UNIXDataFiles/My1stDir/Shakespeare.txt\n",
      "./Week2/UNIXDataFiles/My1stDir/Shakespeare.txt\n"
     ]
    }
   ],
   "source": [
    "filename  = './Week2/UNIXDataFiles/My1stDir/Shakespeare.txt'\n",
    "!echo $filename\n",
    "print(filename)"
   ]
  },
  {
   "cell_type": "code",
   "execution_count": 10,
   "metadata": {},
   "outputs": [
    {
     "name": "stdout",
     "output_type": "stream",
     "text": [
      "./Week2/UNIXDataFiles/My1stDir/Shakespeare.txt\n"
     ]
    }
   ],
   "source": [
    "filename  = './Week2/UNIXDataFiles/My1stDir/Shakespeare.txt'\n",
    "!echo $filename"
   ]
  },
  {
   "cell_type": "markdown",
   "metadata": {},
   "source": [
    "## head (command)"
   ]
  },
  {
   "cell_type": "code",
   "execution_count": 11,
   "metadata": {},
   "outputs": [
    {
     "name": "stdout",
     "output_type": "stream",
     "text": [
      "This is the 100th Etext file presented by Project Gutenberg, and\n",
      "is presented in cooperation with World Library, Inc., from their\n",
      "Library of the Future and Shakespeare CDROMS.  Project Gutenberg\n"
     ]
    }
   ],
   "source": [
    "!head -n 3 $filename"
   ]
  },
  {
   "cell_type": "markdown",
   "metadata": {},
   "source": [
    "## tail (command)"
   ]
  },
  {
   "cell_type": "code",
   "execution_count": 12,
   "metadata": {},
   "outputs": [
    {
     "name": "stdout",
     "output_type": "stream",
     "text": [
      "PERSONAL USE ONLY, AND (2) ARE NOT DISTRIBUTED OR USED\n",
      "COMMERCIALLY.  PROHIBITED COMMERCIAL DISTRIBUTION INCLUDES BY ANY\n",
      "SERVICE THAT CHARGES FOR DOWNLOAD TIME OR FOR MEMBERSHIP.>>\n",
      "\n",
      "\n",
      "\n",
      "End of this Etext of The Complete Works of William Shakespeare\n",
      "\n",
      "\n",
      "\n"
     ]
    }
   ],
   "source": [
    "!tail -n 10 $filename"
   ]
  },
  {
   "cell_type": "markdown",
   "metadata": {},
   "source": [
    "## wc (command)"
   ]
  },
  {
   "cell_type": "code",
   "execution_count": 13,
   "metadata": {},
   "outputs": [
    {
     "name": "stdout",
     "output_type": "stream",
     "text": [
      " 124505  901447 5583442 ./Week2/UNIXDataFiles/My1stDir/Shakespeare.txt\n"
     ]
    }
   ],
   "source": [
    "!wc $filename"
   ]
  },
  {
   "cell_type": "code",
   "execution_count": 14,
   "metadata": {},
   "outputs": [
    {
     "name": "stdout",
     "output_type": "stream",
     "text": [
      "124505 ./Week2/UNIXDataFiles/My1stDir/Shakespeare.txt\n"
     ]
    }
   ],
   "source": [
    "!wc -l $filename"
   ]
  },
  {
   "cell_type": "markdown",
   "metadata": {},
   "source": [
    "## cat (command)"
   ]
  },
  {
   "cell_type": "code",
   "execution_count": 15,
   "metadata": {},
   "outputs": [
    {
     "name": "stdout",
     "output_type": "stream",
     "text": [
      "124505\n"
     ]
    }
   ],
   "source": [
    "!cat $filename | wc -l"
   ]
  },
  {
   "cell_type": "markdown",
   "metadata": {},
   "source": [
    "## grep (command)"
   ]
  },
  {
   "cell_type": "code",
   "execution_count": 17,
   "metadata": {},
   "outputs": [
    {
     "name": "stdout",
     "output_type": "stream",
     "text": [
      "  If the skin were parchment, and the blows you gave were ink,\n",
      "  Ham. Is not parchment made of sheepskins?\n",
      "    of the skin of an innocent lamb should be made parchment? That\n",
      "    parchment, being scribbl'd o'er, should undo a man? Some say the\n",
      "    Upon a parchment, and against this fire\n",
      "    But here's a parchment with the seal of Caesar;  \n",
      "    With inky blots and rotten parchment bonds;\n",
      "    Nor brass, nor stone, nor parchment, bears not one,\n"
     ]
    }
   ],
   "source": [
    "!grep -i 'parchment' $filename"
   ]
  },
  {
   "cell_type": "code",
   "execution_count": 23,
   "metadata": {},
   "outputs": [
    {
     "name": "stdout",
     "output_type": "stream",
     "text": [
      "71\n"
     ]
    }
   ],
   "source": [
    "#output matching pattern one per line and then count number of lines\n",
    "!cat $filename | grep -o 'liberty' | wc -l"
   ]
  },
  {
   "cell_type": "markdown",
   "metadata": {},
   "source": [
    "## sed (command)"
   ]
  },
  {
   "cell_type": "code",
   "execution_count": 25,
   "metadata": {},
   "outputs": [],
   "source": [
    "# replace all instances of 'parchment' to 'manuscript'\n",
    "!sed -e 's/parchment/manuscript/g' $filename > temp.txt"
   ]
  },
  {
   "cell_type": "code",
   "execution_count": 26,
   "metadata": {},
   "outputs": [
    {
     "name": "stdout",
     "output_type": "stream",
     "text": [
      "  If the skin were manuscript, and the blows you gave were ink,\n",
      "  Ham. Is not manuscript made of sheepskins?\n",
      "    of the skin of an innocent lamb should be made manuscript? That\n",
      "    manuscript, being scribbl'd o'er, should undo a man? Some say the\n",
      "    Upon a manuscript, and against this fire\n",
      "    But here's a manuscript with the seal of Caesar;  \n",
      "    With inky blots and rotten manuscript bonds;\n",
      "    Nor brass, nor stone, nor manuscript, bears not one,\n"
     ]
    }
   ],
   "source": [
    "!grep -i 'manuscript' temp.txt"
   ]
  },
  {
   "cell_type": "markdown",
   "metadata": {},
   "source": [
    "## sort (command)"
   ]
  },
  {
   "cell_type": "code",
   "execution_count": 27,
   "metadata": {},
   "outputs": [
    {
     "name": "stdout",
     "output_type": "stream",
     "text": [
      "This is the 100th Etext file presented by Project Gutenberg, and\n",
      "is presented in cooperation with World Library, Inc., from their\n",
      "Library of the Future and Shakespeare CDROMS.  Project Gutenberg\n",
      "often releases Etexts that are NOT placed in the Public Domain!!\n",
      "\n"
     ]
    }
   ],
   "source": [
    "# Sort\n",
    "!head -n 5 $filename"
   ]
  },
  {
   "cell_type": "code",
   "execution_count": 29,
   "metadata": {},
   "outputs": [
    {
     "name": "stdout",
     "output_type": "stream",
     "text": [
      "\n",
      "Library of the Future and Shakespeare CDROMS.  Project Gutenberg\n",
      "This is the 100th Etext file presented by Project Gutenberg, and\n",
      "is presented in cooperation with World Library, Inc., from their\n",
      "often releases Etexts that are NOT placed in the Public Domain!!\n"
     ]
    }
   ],
   "source": [
    "!head -n 5 $filename | sort"
   ]
  },
  {
   "cell_type": "code",
   "execution_count": 32,
   "metadata": {},
   "outputs": [
    {
     "name": "stdout",
     "output_type": "stream",
     "text": [
      "\n",
      "This is the 100th Etext file presented by Project Gutenberg, and\n",
      "Library of the Future and Shakespeare CDROMS.  Project Gutenberg\n",
      "is presented in cooperation with World Library, Inc., from their\n",
      "often releases Etexts that are NOT placed in the Public Domain!!\n"
     ]
    }
   ],
   "source": [
    "# columns separated by ' ', sort on column 2 (-k2), case insensitive (-f)\n",
    "!head -n 5 $filename | sort -f -t' ' -k2"
   ]
  },
  {
   "cell_type": "code",
   "execution_count": 33,
   "metadata": {},
   "outputs": [
    {
     "name": "stdout",
     "output_type": "stream",
     "text": [
      "124505\n"
     ]
    }
   ],
   "source": [
    "!sort $filename | wc -l"
   ]
  },
  {
   "cell_type": "code",
   "execution_count": 3,
   "metadata": {},
   "outputs": [
    {
     "name": "stdout",
     "output_type": "stream",
     "text": [
      "110834\n"
     ]
    }
   ],
   "source": [
    "# uniq command for getting unique records using -u option\n",
    "!sort $filename | uniq -u | wc -l"
   ]
  },
  {
   "cell_type": "markdown",
   "metadata": {},
   "source": [
    "# Lets bring it all together"
   ]
  },
  {
   "cell_type": "markdown",
   "metadata": {},
   "source": [
    "## Count most frequent words in the text in UNIX"
   ]
  },
  {
   "cell_type": "code",
   "execution_count": 21,
   "metadata": {},
   "outputs": [
    {
     "name": "stdout",
     "output_type": "stream",
     "text": [
      " 502289 $\n",
      "  22678 the$\n",
      "  19163 I$\n",
      "  17868 and$\n",
      "  15324 to$\n",
      "  15216 of$\n",
      "  14779 \n",
      "  12152 a$\n",
      "  10614 my$\n",
      "   9347 in$\n",
      "   8709 you$\n",
      "   7662 is$\n",
      "   7332 that$\n",
      "   7065 And$\n",
      "   6737 not$\n"
     ]
    },
    {
     "name": "stderr",
     "output_type": "stream",
     "text": [
      "sort: write failed: 'standard output'\n",
      "sort: write error\n"
     ]
    }
   ],
   "source": [
    "!sed -e 's/ /'$'\\n/g' < $filename | sort | uniq -c | sort -nr | head -15"
   ]
  },
  {
   "cell_type": "code",
   "execution_count": 22,
   "metadata": {},
   "outputs": [],
   "source": [
    "# head stops after 15 lines, hence 'sort' command is sending the last two lines"
   ]
  },
  {
   "cell_type": "markdown",
   "metadata": {},
   "source": [
    "## Write the output to a file"
   ]
  },
  {
   "cell_type": "code",
   "execution_count": 27,
   "metadata": {},
   "outputs": [
    {
     "name": "stderr",
     "output_type": "stream",
     "text": [
      "sort: write failed: 'standard output'\n",
      "sort: write error\n"
     ]
    }
   ],
   "source": [
    "!sed -e 's/ /'$'\\n/g' < $filename | sort | uniq -c | sort -nr | head -15 > count_vs_words"
   ]
  },
  {
   "cell_type": "code",
   "execution_count": 28,
   "metadata": {},
   "outputs": [
    {
     "name": "stdout",
     "output_type": "stream",
     "text": [
      " 502289 $\n",
      "  22678 the$\n",
      "  19163 I$\n",
      "  17868 and$\n",
      "  15324 to$\n",
      "  15216 of$\n",
      "  14779 \n",
      "  12152 a$\n",
      "  10614 my$\n",
      "   9347 in$\n",
      "   8709 you$\n",
      "   7662 is$\n",
      "   7332 that$\n",
      "   7065 And$\n",
      "   6737 not$\n"
     ]
    }
   ],
   "source": [
    "!cat count_vs_words"
   ]
  },
  {
   "cell_type": "markdown",
   "metadata": {},
   "source": [
    "## Plot by importing word counts into Python"
   ]
  },
  {
   "cell_type": "code",
   "execution_count": 30,
   "metadata": {},
   "outputs": [],
   "source": [
    "%matplotlib inline"
   ]
  },
  {
   "cell_type": "code",
   "execution_count": 33,
   "metadata": {},
   "outputs": [
    {
     "data": {
      "image/png": "[encoded data removed]",
      "text/plain": [
       "<Figure size 720x720 with 1 Axes>"
      ]
     },
     "metadata": {
      "needs_background": "light"
     },
     "output_type": "display_data"
    }
   ],
   "source": [
    "import matplotlib.pyplot as plt\n",
    "import csv\n",
    "\n",
    "xTicks = []\n",
    "y = []\n",
    "\n",
    "with open('count_vs_words','r') as csvfile:\n",
    "    plots = csv.reader(csvfile, delimiter= ' ')\n",
    "    for row in plots:\n",
    "        y.append(int(row[-2]))\n",
    "        xTicks.append(str(row[-1]))\n",
    "        \n",
    "# remove the count of spaces (first line)\n",
    "y = y[1:]\n",
    "xTicks = xTicks[1:]\n",
    "\n",
    "# plot\n",
    "x = range(len(y))\n",
    "plt.figure(figsize=(10,10))\n",
    "plt.xticks(x, xTicks, rotation=90)    # xlabel with 90 degree angle\n",
    "plt.plot(x,y,'*')\n",
    "plt.show()"
   ]
  },
  {
   "cell_type": "code",
   "execution_count": null,
   "metadata": {},
   "outputs": [],
   "source": []
  }
 ],
 "metadata": {
  "kernelspec": {
   "display_name": "Python 3",
   "language": "python",
   "name": "python3"
  },
  "language_info": {
   "codemirror_mode": {
    "name": "ipython",
    "version": 3
   },
   "file_extension": ".py",
   "mimetype": "text/x-python",
   "name": "python",
   "nbconvert_exporter": "python",
   "pygments_lexer": "ipython3",
   "version": "3.8.5"
  }
 },
 "nbformat": 4,
 "nbformat_minor": 4
}
